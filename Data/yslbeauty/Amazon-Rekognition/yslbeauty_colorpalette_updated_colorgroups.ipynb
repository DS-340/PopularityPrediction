{
  "cells": [
    {
      "cell_type": "markdown",
      "metadata": {
        "id": "view-in-github",
        "colab_type": "text"
      },
      "source": [
        "<a href=\"https://colab.research.google.com/github/Emily-KD/PopularityPrediction/blob/main/Data/yslbeauty/Amazon-Rekognition/yslbeauty_colorpalette_updated_colorgroups.ipynb\" target=\"_parent\"><img src=\"https://colab.research.google.com/assets/colab-badge.svg\" alt=\"Open In Colab\"/></a>"
      ]
    },
    {
      "cell_type": "code",
      "source": [
        "!pip install colorthief"
      ],
      "metadata": {
        "colab": {
          "base_uri": "https://localhost:8080/"
        },
        "id": "2rSqseAtFhS2",
        "outputId": "e23bd4da-90e1-49b9-e519-7f8089ff1058"
      },
      "id": "2rSqseAtFhS2",
      "execution_count": 1,
      "outputs": [
        {
          "output_type": "stream",
          "name": "stdout",
          "text": [
            "Collecting colorthief\n",
            "  Downloading colorthief-0.2.1-py2.py3-none-any.whl.metadata (816 bytes)\n",
            "Requirement already satisfied: Pillow in /usr/local/lib/python3.11/dist-packages (from colorthief) (11.1.0)\n",
            "Downloading colorthief-0.2.1-py2.py3-none-any.whl (6.1 kB)\n",
            "Installing collected packages: colorthief\n",
            "Successfully installed colorthief-0.2.1\n"
          ]
        }
      ]
    },
    {
      "cell_type": "code",
      "source": [
        "from google.colab import drive\n",
        "drive.mount('/content/drive')"
      ],
      "metadata": {
        "colab": {
          "base_uri": "https://localhost:8080/"
        },
        "id": "RWwu3nFnlWdd",
        "outputId": "0114120c-3912-473b-90e2-5367ec53d4f8"
      },
      "id": "RWwu3nFnlWdd",
      "execution_count": 2,
      "outputs": [
        {
          "output_type": "stream",
          "name": "stdout",
          "text": [
            "Mounted at /content/drive\n"
          ]
        }
      ]
    },
    {
      "cell_type": "code",
      "execution_count": 3,
      "id": "economic-fiber",
      "metadata": {
        "id": "economic-fiber"
      },
      "outputs": [],
      "source": [
        "from colorthief import ColorThief\n",
        "import webcolors\n",
        "import numpy as np\n",
        "import pandas as pd\n",
        "from sklearn.metrics import mean_squared_error\n",
        "import os"
      ]
    },
    {
      "cell_type": "code",
      "execution_count": 11,
      "id": "every-future",
      "metadata": {
        "id": "every-future"
      },
      "outputs": [],
      "source": [
        "rekog_images_dir = \"/content/drive/Shareddrives/DS340W Project/Dataset NEW*/yslbeauty/yslbeauty_images_2024_2025/\""
      ]
    },
    {
      "cell_type": "code",
      "execution_count": 9,
      "id": "wicked-western",
      "metadata": {
        "id": "wicked-western"
      },
      "outputs": [],
      "source": [
        "local_images = os.listdir(rekog_images_dir) # Get all image names"
      ]
    },
    {
      "cell_type": "code",
      "source": [
        "# Get list of non-duplicate .jpg files\n",
        "local_images = [\n",
        "    f for f in os.listdir(rekog_images_dir)\n",
        "    if f.endswith('.jpg') and ' (1)' not in f\n",
        "]\n",
        "\n",
        "local_images"
      ],
      "metadata": {
        "colab": {
          "base_uri": "https://localhost:8080/"
        },
        "id": "WwboWStcdV63",
        "outputId": "c5b09a1f-0b54-4590-a288-cc68b232175d"
      },
      "id": "WwboWStcdV63",
      "execution_count": 12,
      "outputs": [
        {
          "output_type": "execute_result",
          "data": {
            "text/plain": [
              "['post215_img2.jpg',\n",
              " 'post215_img1.jpg',\n",
              " 'post215_img3.jpg',\n",
              " 'post210_img1.jpg',\n",
              " 'post210_img2.jpg',\n",
              " 'post210_img3.jpg',\n",
              " 'post210_img4.jpg',\n",
              " 'post210_img5.jpg',\n",
              " 'post208_img3.jpg',\n",
              " 'post208_img1.jpg',\n",
              " 'post208_img2.jpg',\n",
              " 'post208_img5.jpg',\n",
              " 'post208_img4.jpg',\n",
              " 'post198_img1.jpg',\n",
              " 'post197_img2.jpg',\n",
              " 'post197_img1.jpg',\n",
              " 'post197_img6.jpg',\n",
              " 'post197_img5.jpg',\n",
              " 'post197_img3.jpg',\n",
              " 'post197_img4.jpg',\n",
              " 'post197_img7.jpg',\n",
              " 'post196_img1.jpg',\n",
              " 'post196_img2.jpg',\n",
              " 'post196_img3.jpg',\n",
              " 'post196_img4.jpg',\n",
              " 'post196_img5.jpg',\n",
              " 'post195_img3.jpg',\n",
              " 'post195_img2.jpg',\n",
              " 'post195_img4.jpg',\n",
              " 'post195_img1.jpg',\n",
              " 'post195_img5.jpg',\n",
              " 'post193_img1.jpg',\n",
              " 'post193_img3.jpg',\n",
              " 'post193_img2.jpg',\n",
              " 'post193_img4.jpg',\n",
              " 'post192_img1.jpg',\n",
              " 'post192_img2.jpg',\n",
              " 'post192_img3.jpg',\n",
              " 'post192_img4.jpg',\n",
              " 'post185_img1.jpg',\n",
              " 'post185_img2.jpg',\n",
              " 'post185_img4.jpg',\n",
              " 'post185_img3.jpg',\n",
              " 'post184_img1.jpg',\n",
              " 'post184_img2.jpg',\n",
              " 'post184_img3.jpg',\n",
              " 'post177_img1.jpg',\n",
              " 'post177_img2.jpg',\n",
              " 'post177_img3.jpg',\n",
              " 'post176_img1.jpg',\n",
              " 'post165_img1.jpg',\n",
              " 'post152_img1.jpg',\n",
              " 'post152_img2.jpg',\n",
              " 'post152_img4.jpg',\n",
              " 'post152_img3.jpg',\n",
              " 'post152_img5.jpg',\n",
              " 'post151_img1.jpg',\n",
              " 'post151_img2.jpg',\n",
              " 'post150_img3.jpg',\n",
              " 'post150_img1.jpg',\n",
              " 'post150_img4.jpg',\n",
              " 'post150_img2.jpg',\n",
              " 'post147_img2.jpg',\n",
              " 'post147_img1.jpg',\n",
              " 'post147_img3.jpg',\n",
              " 'post146_img1.jpg',\n",
              " 'post145_img1.jpg',\n",
              " 'post145_img2.jpg',\n",
              " 'post145_img3.jpg',\n",
              " 'post145_img4.jpg',\n",
              " 'post144_img1.jpg',\n",
              " 'post144_img2.jpg',\n",
              " 'post144_img3.jpg',\n",
              " 'post138_img1.jpg',\n",
              " 'post138_img2.jpg',\n",
              " 'post137_img2.jpg',\n",
              " 'post137_img1.jpg',\n",
              " 'post137_img4.jpg',\n",
              " 'post137_img5.jpg',\n",
              " 'post137_img3.jpg',\n",
              " 'post135_img1.jpg',\n",
              " 'post135_img2.jpg',\n",
              " 'post129_img1.jpg',\n",
              " 'post129_img2.jpg',\n",
              " 'post129_img3.jpg',\n",
              " 'post129_img4.jpg',\n",
              " 'post126_img1.jpg',\n",
              " 'post118_img1.jpg',\n",
              " 'post118_img2.jpg',\n",
              " 'post116_img2.jpg',\n",
              " 'post116_img1.jpg',\n",
              " 'post114_img1.jpg',\n",
              " 'post114_img2.jpg',\n",
              " 'post114_img3.jpg',\n",
              " 'post113_img1.jpg',\n",
              " 'post113_img2.jpg',\n",
              " 'post111_img2.jpg',\n",
              " 'post111_img3.jpg',\n",
              " 'post111_img1.jpg',\n",
              " 'post108_img2.jpg',\n",
              " 'post108_img3.jpg',\n",
              " 'post108_img1.jpg',\n",
              " 'post106_img1.jpg',\n",
              " 'post106_img2.jpg',\n",
              " 'post102_img1.jpg',\n",
              " 'post102_img2.jpg',\n",
              " 'post98_img3.jpg',\n",
              " 'post98_img1.jpg',\n",
              " 'post98_img2.jpg',\n",
              " 'post97_img1.jpg',\n",
              " 'post97_img2.jpg',\n",
              " 'post94_img1.jpg',\n",
              " 'post94_img2.jpg',\n",
              " 'post91_img4.jpg',\n",
              " 'post91_img3.jpg',\n",
              " 'post91_img2.jpg',\n",
              " 'post91_img1.jpg',\n",
              " 'post88_img1.jpg',\n",
              " 'post88_img2.jpg',\n",
              " 'post88_img3.jpg',\n",
              " 'post86_img1.jpg',\n",
              " 'post82_img1.jpg',\n",
              " 'post82_img2.jpg',\n",
              " 'post82_img4.jpg',\n",
              " 'post82_img6.jpg',\n",
              " 'post82_img7.jpg',\n",
              " 'post82_img5.jpg',\n",
              " 'post82_img3.jpg',\n",
              " 'post80_img3.jpg',\n",
              " 'post80_img1.jpg',\n",
              " 'post80_img2.jpg',\n",
              " 'post80_img4.jpg',\n",
              " 'post79_img1.jpg',\n",
              " 'post79_img2.jpg',\n",
              " 'post179_img1.jpg',\n",
              " 'post179_img5.jpg',\n",
              " 'post179_img2.jpg',\n",
              " 'post179_img4.jpg',\n",
              " 'post179_img3.jpg',\n",
              " 'post78_img3.jpg',\n",
              " 'post78_img2.jpg',\n",
              " 'post78_img1.jpg',\n",
              " 'post168_img1.jpg',\n",
              " 'post168_img2.jpg',\n",
              " 'post163_img2.jpg',\n",
              " 'post163_img1.jpg',\n",
              " 'post163_img3.jpg',\n",
              " 'post155_img1.jpg',\n",
              " 'post155_img2.jpg',\n",
              " 'post155_img3.jpg',\n",
              " 'post75_img1.jpg',\n",
              " 'post74_img1.jpg',\n",
              " 'post74_img3.jpg',\n",
              " 'post74_img2.jpg',\n",
              " 'post68_img3.jpg',\n",
              " 'post68_img1.jpg',\n",
              " 'post68_img2.jpg',\n",
              " 'post65_img1.jpg',\n",
              " 'post65_img2.jpg',\n",
              " 'post65_img3.jpg',\n",
              " 'post62_img2.jpg',\n",
              " 'post62_img4.jpg',\n",
              " 'post62_img3.jpg',\n",
              " 'post62_img1.jpg',\n",
              " 'post52_img1.jpg',\n",
              " 'post52_img3.jpg',\n",
              " 'post52_img4.jpg',\n",
              " 'post52_img2.jpg',\n",
              " 'post52_img7.jpg',\n",
              " 'post52_img5.jpg',\n",
              " 'post52_img8.jpg',\n",
              " 'post52_img6.jpg',\n",
              " 'post52_img9.jpg',\n",
              " 'post52_img10.jpg',\n",
              " 'post49_img1.jpg',\n",
              " 'post49_img4.jpg',\n",
              " 'post49_img3.jpg',\n",
              " 'post49_img2.jpg',\n",
              " 'post50_img1.jpg',\n",
              " 'post48_img2.jpg',\n",
              " 'post48_img1.jpg',\n",
              " 'post47_img1.jpg',\n",
              " 'post47_img2.jpg',\n",
              " 'post47_img3.jpg',\n",
              " 'post46_img3.jpg',\n",
              " 'post46_img1.jpg',\n",
              " 'post46_img2.jpg',\n",
              " 'post41_img1.jpg',\n",
              " 'post41_img3.jpg',\n",
              " 'post41_img2.jpg',\n",
              " 'post38_img1.jpg',\n",
              " 'post38_img3.jpg',\n",
              " 'post38_img4.jpg',\n",
              " 'post38_img2.jpg',\n",
              " 'post35_img1.jpg',\n",
              " 'post35_img2.jpg',\n",
              " 'post33_img2.jpg',\n",
              " 'post33_img3.jpg',\n",
              " 'post33_img1.jpg',\n",
              " 'post32_img2.jpg',\n",
              " 'post32_img1.jpg',\n",
              " 'post32_img3.jpg',\n",
              " 'post32_img4.jpg',\n",
              " 'post31_img2.jpg',\n",
              " 'post31_img3.jpg',\n",
              " 'post31_img1.jpg',\n",
              " 'post28_img3.jpg',\n",
              " 'post28_img4.jpg',\n",
              " 'post28_img2.jpg',\n",
              " 'post28_img1.jpg',\n",
              " 'post26_img1.jpg',\n",
              " 'post26_img2.jpg',\n",
              " 'post26_img3.jpg',\n",
              " 'post20_img1.jpg',\n",
              " 'post20_img2.jpg',\n",
              " 'post20_img3.jpg',\n",
              " 'post20_img4.jpg',\n",
              " 'post20_img6.jpg',\n",
              " 'post20_img7.jpg',\n",
              " 'post20_img5.jpg',\n",
              " 'post19_img1.jpg',\n",
              " 'post19_img2.jpg',\n",
              " 'post19_img3.jpg',\n",
              " 'post19_img4.jpg',\n",
              " 'post18_img1.jpg',\n",
              " 'post18_img2.jpg',\n",
              " 'post18_img3.jpg',\n",
              " 'post18_img4.jpg',\n",
              " 'post18_img5.jpg',\n",
              " 'post16_img1.jpg',\n",
              " 'post16_img3.jpg',\n",
              " 'post16_img2.jpg',\n",
              " 'post16_img4.jpg',\n",
              " 'post16_img5.jpg',\n",
              " 'post16_img6.jpg',\n",
              " 'post13_img1.jpg',\n",
              " 'post13_img2.jpg',\n",
              " 'post13_img3.jpg',\n",
              " 'post13_img5.jpg',\n",
              " 'post13_img6.jpg',\n",
              " 'post13_img4.jpg',\n",
              " 'post12_img1.jpg',\n",
              " 'post12_img3.jpg',\n",
              " 'post12_img2.jpg',\n",
              " 'post10_img1.jpg',\n",
              " 'post10_img3.jpg',\n",
              " 'post10_img2.jpg',\n",
              " 'post10_img4.jpg',\n",
              " 'post9_img1.jpg',\n",
              " 'post9_img5.jpg',\n",
              " 'post9_img2.jpg',\n",
              " 'post9_img4.jpg',\n",
              " 'post9_img7.jpg',\n",
              " 'post9_img6.jpg',\n",
              " 'post9_img9.jpg',\n",
              " 'post9_img8.jpg',\n",
              " 'post9_img3.jpg',\n",
              " 'post6_img1.jpg',\n",
              " 'post6_img2.jpg',\n",
              " 'post6_img3.jpg',\n",
              " 'post4_img4.jpg',\n",
              " 'post4_img1.jpg',\n",
              " 'post4_img3.jpg',\n",
              " 'post4_img2.jpg',\n",
              " 'post3_img2.jpg',\n",
              " 'post3_img1.jpg',\n",
              " 'post3_img3.jpg']"
            ]
          },
          "metadata": {},
          "execution_count": 12
        }
      ]
    },
    {
      "cell_type": "code",
      "execution_count": 13,
      "id": "genetic-township",
      "metadata": {
        "id": "genetic-township"
      },
      "outputs": [],
      "source": [
        "def is_css3_color(instance):\n",
        "        if instance.lower() in webcolors.css3_names_to_hex:\n",
        "            return True\n",
        "        return is_css_color_code(instance)"
      ]
    },
    {
      "cell_type": "code",
      "execution_count": 14,
      "id": "dirty-fusion",
      "metadata": {
        "id": "dirty-fusion"
      },
      "outputs": [],
      "source": [
        "def check_color(color_name):\n",
        "    #Define colors\n",
        "    PINK = ['pink', 'lightpink', 'hotpink', 'deeppink', 'palevioletred', 'mediumvioletred']\n",
        "    PURPLE = ['lavender', 'thistle', 'plum', 'orchid', 'violet', 'fuchsia', 'magenta', 'mediumorchid', 'darkorchid', 'darkviolet', 'blueviolet', 'darkmagenta',  'purple',  'mediumpurple',  'mediumslateblue', 'slateblue', 'darkslateblue', 'rebeccapurple',  'indigo']\n",
        "    RED = ['lightsalmon', 'salmon', 'darksalmon', 'lightcoral', 'indianred', 'crimson', 'red', 'firebrick', 'darkred']\n",
        "    ORANGE = ['orange', 'darkorange', 'coral', 'tomato', 'orangered']\n",
        "    YELLOW = ['gold', 'yellow', 'lightyellow', 'lemonchiffon', 'lightgoldenrodyellow', 'papayawhip', 'moccasin', 'peachpuff',  'palegoldenrod', 'khaki', 'darkkhaki']\n",
        "    GREEN = ['greenyellow', 'chartreuse',  'lawngreen', 'lime',  'limegreen', 'palegreen', 'lightgreen', 'mediumspringgreen', 'springgreen', 'mediumseagreen', 'seagreen', 'forestgreen', 'green', 'darkgreen', 'yellowgreen', 'olivedrab', 'darkolivegreen', 'mediumaquamarine', 'darkseagreen', 'lightseagreen',  'darkcyan',  'teal']\n",
        "    CYAN= ['aqua', 'cyan', \"darkslategray\",'lightcyan', 'paleturquoise', 'aquamarine', 'turquoise', 'mediumturquoise', 'darkturquoise']\n",
        "    BLUE=  ['cadetblue', 'steelblue', 'lightsteelblue', 'lightblue', 'powderblue', 'lightskyblue',  'skyblue', 'cornflowerblue', 'deepskyblue', 'dodgerblue', 'royalblue', 'blue', 'mediumblue',  'darkblue',  'navy',  'MidnightBlue']\n",
        "    BROWN =  ['cornsilk', 'blanchedalmond', 'bisque', 'navajowhite', 'wheat', 'burlywood', 'tan', 'rosybrown', 'sandybrown', 'goldenrod', 'darkgoldenrod',  'peru', 'chocolate', 'olive', 'saddlebrown',  'sienna',  'brown', 'maroon']\n",
        "    WHITE = ['white', 'snow', 'honeydew', 'mintcream', 'azure', 'aliceblue',  'ghostwhite', 'whitesmoke', 'seashell',  'beige', 'oldlace',  'floralwhite',  'ivory', 'antiquewhite',  'linen', 'lavenderblush',  'mistyrose']\n",
        "    GREY = [ 'gainsboro', 'lightgray', 'silver', 'darkgray', 'dimgray',  'gray',  'lightslategray', 'slategray', 'arkslategray', 'black']\n",
        "\n",
        "    #Check cases\n",
        "    if color_name in PINK:\n",
        "        return 'pink'\n",
        "    elif color_name in PURPLE:\n",
        "        return 'purple'\n",
        "    elif color_name in RED:\n",
        "        return 'red'\n",
        "    elif color_name in ORANGE:\n",
        "        return 'orange'\n",
        "    elif color_name in YELLOW:\n",
        "        return 'yellow'\n",
        "    elif color_name in GREEN:\n",
        "        return 'green'\n",
        "    elif color_name in CYAN:\n",
        "        return 'cyan'\n",
        "    elif color_name in BLUE:\n",
        "        return 'blue'\n",
        "    elif color_name in BROWN:\n",
        "        return 'brown'\n",
        "    elif color_name in WHITE:\n",
        "        return 'white'\n",
        "    elif color_name in GREY:\n",
        "        return 'grey'\n",
        "    else:\n",
        "        return 'No color found'"
      ]
    },
    {
      "cell_type": "code",
      "source": [
        "!pip install webcolors"
      ],
      "metadata": {
        "colab": {
          "base_uri": "https://localhost:8080/"
        },
        "id": "XyRDFWGcmbnr",
        "outputId": "e8be37eb-e4e8-4c7a-dada-85f1d81785a0"
      },
      "id": "XyRDFWGcmbnr",
      "execution_count": 15,
      "outputs": [
        {
          "output_type": "stream",
          "name": "stdout",
          "text": [
            "Requirement already satisfied: webcolors in /usr/local/lib/python3.11/dist-packages (24.11.1)\n"
          ]
        }
      ]
    },
    {
      "cell_type": "code",
      "source": [
        "!pip show webcolors"
      ],
      "metadata": {
        "colab": {
          "base_uri": "https://localhost:8080/"
        },
        "id": "RrDZEf_5GGm3",
        "outputId": "99d32773-b07b-4010-ea13-81cccc316f98"
      },
      "id": "RrDZEf_5GGm3",
      "execution_count": 16,
      "outputs": [
        {
          "output_type": "stream",
          "name": "stdout",
          "text": [
            "Name: webcolors\n",
            "Version: 24.11.1\n",
            "Summary: A library for working with the color formats defined by HTML and CSS.\n",
            "Home-page: \n",
            "Author: James Bennett\n",
            "Author-email: \n",
            "License: BSD-3-Clause\n",
            "Location: /usr/local/lib/python3.11/dist-packages\n",
            "Requires: \n",
            "Required-by: music21\n"
          ]
        }
      ]
    },
    {
      "cell_type": "code",
      "source": [
        "import webcolors\n",
        "print(dir(webcolors))"
      ],
      "metadata": {
        "colab": {
          "base_uri": "https://localhost:8080/"
        },
        "id": "9Fw-ha-O1_ZI",
        "outputId": "629e41ee-12a8-4474-8c09-252a96a616e6"
      },
      "id": "9Fw-ha-O1_ZI",
      "execution_count": 17,
      "outputs": [
        {
          "output_type": "stream",
          "name": "stdout",
          "text": [
            "['CSS2', 'CSS21', 'CSS3', 'HTML4', 'HTML5SimpleColor', 'IntTuple', 'IntegerRGB', 'PercentRGB', 'PercentTuple', '__all__', '__builtins__', '__cached__', '__doc__', '__file__', '__loader__', '__name__', '__package__', '__path__', '__spec__', '_conversion', '_definitions', '_html5', '_normalization', '_types', 'hex_to_name', 'hex_to_rgb', 'hex_to_rgb_percent', 'html5_parse_legacy_color', 'html5_parse_simple_color', 'html5_serialize_simple_color', 'name_to_hex', 'name_to_rgb', 'name_to_rgb_percent', 'names', 'normalize_hex', 'normalize_integer_triplet', 'normalize_percent_triplet', 'rgb_percent_to_hex', 'rgb_percent_to_name', 'rgb_percent_to_rgb', 'rgb_to_hex', 'rgb_to_name', 'rgb_to_rgb_percent']\n"
          ]
        }
      ]
    },
    {
      "cell_type": "code",
      "source": [
        "print(webcolors.name_to_hex(\"red\"))"
      ],
      "metadata": {
        "colab": {
          "base_uri": "https://localhost:8080/"
        },
        "id": "qiNx_-zD2v7r",
        "outputId": "1b611b69-ba65-4f5d-e342-7c0b5c8ebbe3"
      },
      "id": "qiNx_-zD2v7r",
      "execution_count": 18,
      "outputs": [
        {
          "output_type": "stream",
          "name": "stdout",
          "text": [
            "#ff0000\n"
          ]
        }
      ]
    },
    {
      "cell_type": "code",
      "execution_count": 19,
      "id": "circular-outreach",
      "metadata": {
        "id": "circular-outreach"
      },
      "outputs": [],
      "source": [
        "image_names = []\n",
        "color_names = []\n",
        "for imageFile in local_images:\n",
        "    color_thief = ColorThief(os.path.join(rekog_images_dir, imageFile))\n",
        "    dominant_color = color_thief.get_color(quality=1)\n",
        "    rms_lst = []\n",
        "\n",
        "    for color_name in webcolors.names():\n",
        "        try:\n",
        "            hex_val = webcolors.name_to_hex(color_name)\n",
        "            cur_clr = webcolors.hex_to_rgb(hex_val)\n",
        "            rmse = np.sqrt(mean_squared_error(dominant_color, cur_clr))\n",
        "            rms_lst.append((color_name, rmse))\n",
        "        except ValueError:\n",
        "            continue\n",
        "\n",
        "    # Get closest color by RMSE\n",
        "    closest_color = min(rms_lst, key=lambda x: x[1])[0]\n",
        "    grouped_color = check_color(closest_color)  # your categorization (e.g., pink, red, etc.)\n",
        "\n",
        "    image_names.append(imageFile)\n",
        "    color_names.append(grouped_color.lower())  # match lowercase pattern\n",
        "\n",
        "# Create DataFrame with correct columns\n",
        "output_colors = pd.DataFrame({\n",
        "    'image_id': image_names,\n",
        "    'dominantColor': color_names\n",
        "})"
      ]
    },
    {
      "cell_type": "code",
      "execution_count": 20,
      "id": "personal-publisher",
      "metadata": {
        "id": "personal-publisher"
      },
      "outputs": [],
      "source": [
        "output_colors = output_colors.to_csv('/content/drive/Shareddrives/DS340W Project/Dataset NEW*/yslbeauty/yslbeauty_colors.csv', index=False)"
      ]
    }
  ],
  "metadata": {
    "colab": {
      "provenance": [],
      "include_colab_link": true
    },
    "kernelspec": {
      "display_name": "Python 3",
      "language": "python",
      "name": "python3"
    },
    "language_info": {
      "codemirror_mode": {
        "name": "ipython",
        "version": 3
      },
      "file_extension": ".py",
      "mimetype": "text/x-python",
      "name": "python",
      "nbconvert_exporter": "python",
      "pygments_lexer": "ipython3",
      "version": "3.10.0"
    }
  },
  "nbformat": 4,
  "nbformat_minor": 5
}